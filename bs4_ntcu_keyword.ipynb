{
 "cells": [
  {
   "cell_type": "code",
   "execution_count": 1,
   "id": "f14ea657",
   "metadata": {},
   "outputs": [
    {
     "name": "stdout",
     "output_type": "stream",
     "text": [
      "找到4次\n"
     ]
    }
   ],
   "source": [
    "import requests\n",
    "from bs4 import BeautifulSoup\n",
    "url = 'https://2023ntcu.ntcu.edu.tw/'\n",
    "html = requests.get(url)\n",
    "html.encoding=\"utf-8\"\n",
    "#print(html.text)\n",
    "soup = BeautifulSoup(html.text, 'html.parser')\n",
    "#htmllist = html.text.splitlines(0)\n",
    "\n",
    "keyword = \"臺中\"\n",
    "n=0\n",
    "for text in soup.stripped_strings:\n",
    "    if keyword in text:\n",
    "        n = n + 1\n",
    "print(\"找到{}次\".format(n)) "
   ]
  },
  {
   "cell_type": "code",
   "execution_count": null,
   "id": "c58fb266",
   "metadata": {},
   "outputs": [],
   "source": []
  }
 ],
 "metadata": {
  "kernelspec": {
   "display_name": "Python 3 (ipykernel)",
   "language": "python",
   "name": "python3"
  },
  "language_info": {
   "codemirror_mode": {
    "name": "ipython",
    "version": 3
   },
   "file_extension": ".py",
   "mimetype": "text/x-python",
   "name": "python",
   "nbconvert_exporter": "python",
   "pygments_lexer": "ipython3",
   "version": "3.7.16"
  }
 },
 "nbformat": 4,
 "nbformat_minor": 5
}
